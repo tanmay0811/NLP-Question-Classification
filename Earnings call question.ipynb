{
 "cells": [
  {
   "cell_type": "code",
   "execution_count": 2,
   "metadata": {},
   "outputs": [],
   "source": [
    "from sklearn.feature_extraction.text import TfidfVectorizer, CountVectorizer\n",
    "from sklearn import decomposition, ensemble\n",
    "\n",
    "import pandas as pd\n",
    "\n"
   ]
  },
  {
   "cell_type": "code",
   "execution_count": 3,
   "metadata": {},
   "outputs": [
    {
     "data": {
      "text/html": [
       "<div>\n",
       "<style scoped>\n",
       "    .dataframe tbody tr th:only-of-type {\n",
       "        vertical-align: middle;\n",
       "    }\n",
       "\n",
       "    .dataframe tbody tr th {\n",
       "        vertical-align: top;\n",
       "    }\n",
       "\n",
       "    .dataframe thead th {\n",
       "        text-align: right;\n",
       "    }\n",
       "</style>\n",
       "<table border=\"1\" class=\"dataframe\">\n",
       "  <thead>\n",
       "    <tr style=\"text-align: right;\">\n",
       "      <th></th>\n",
       "      <th>Sr. No.</th>\n",
       "      <th>Question</th>\n",
       "    </tr>\n",
       "  </thead>\n",
       "  <tbody>\n",
       "    <tr>\n",
       "      <th>0</th>\n",
       "      <td>1.0</td>\n",
       "      <td>you spoke about some challenges that you faced...</td>\n",
       "    </tr>\n",
       "    <tr>\n",
       "      <th>1</th>\n",
       "      <td>NaN</td>\n",
       "      <td>the quarter  If you could just highlight what ...</td>\n",
       "    </tr>\n",
       "    <tr>\n",
       "      <th>2</th>\n",
       "      <td>NaN</td>\n",
       "      <td>currency and the external environment  What ar...</td>\n",
       "    </tr>\n",
       "    <tr>\n",
       "      <th>3</th>\n",
       "      <td>NaN</td>\n",
       "      <td>customer specific  Or could you just highlight...</td>\n",
       "    </tr>\n",
       "    <tr>\n",
       "      <th>4</th>\n",
       "      <td>2.0</td>\n",
       "      <td>just wanted to know are we prepared for the me...</td>\n",
       "    </tr>\n",
       "  </tbody>\n",
       "</table>\n",
       "</div>"
      ],
      "text/plain": [
       "   Sr. No.                                           Question\n",
       "0      1.0  you spoke about some challenges that you faced...\n",
       "1      NaN  the quarter  If you could just highlight what ...\n",
       "2      NaN  currency and the external environment  What ar...\n",
       "3      NaN  customer specific  Or could you just highlight...\n",
       "4      2.0  just wanted to know are we prepared for the me..."
      ]
     },
     "execution_count": 3,
     "metadata": {},
     "output_type": "execute_result"
    }
   ],
   "source": [
    "data1=pd.read_excel('C:/Users/Tanmay/Desktop/Intern work/Text classification/Other factors.xlsx')\n",
    "import re\n",
    "def clean_text(text):\n",
    " text = re.sub(r'[^a-zA-Z\\']',' ', text)\n",
    " text = re.sub(r'[^\\x00-\\x7F]+',' ', text)\n",
    " return text\n",
    "data1['Question']=data1.Question.apply(lambda x: clean_text(x))\n",
    "data1.head()"
   ]
  },
  {
   "cell_type": "code",
   "execution_count": 4,
   "metadata": {},
   "outputs": [
    {
     "data": {
      "text/html": [
       "<div>\n",
       "<style scoped>\n",
       "    .dataframe tbody tr th:only-of-type {\n",
       "        vertical-align: middle;\n",
       "    }\n",
       "\n",
       "    .dataframe tbody tr th {\n",
       "        vertical-align: top;\n",
       "    }\n",
       "\n",
       "    .dataframe thead th {\n",
       "        text-align: right;\n",
       "    }\n",
       "</style>\n",
       "<table border=\"1\" class=\"dataframe\">\n",
       "  <thead>\n",
       "    <tr style=\"text-align: right;\">\n",
       "      <th></th>\n",
       "      <th>Sr. No.</th>\n",
       "      <th>Question</th>\n",
       "    </tr>\n",
       "  </thead>\n",
       "  <tbody>\n",
       "    <tr>\n",
       "      <th>0</th>\n",
       "      <td>1.0</td>\n",
       "      <td>what would be our nonlinear revenue as a perce...</td>\n",
       "    </tr>\n",
       "    <tr>\n",
       "      <th>1</th>\n",
       "      <td>2.0</td>\n",
       "      <td>last quarter  we have been    till last quarte...</td>\n",
       "    </tr>\n",
       "    <tr>\n",
       "      <th>2</th>\n",
       "      <td>NaN</td>\n",
       "      <td>been telling about     aspirational growth and...</td>\n",
       "    </tr>\n",
       "    <tr>\n",
       "      <th>3</th>\n",
       "      <td>NaN</td>\n",
       "      <td>challenges that we found  Is that something wh...</td>\n",
       "    </tr>\n",
       "    <tr>\n",
       "      <th>4</th>\n",
       "      <td>NaN</td>\n",
       "      <td>that long term     type of aspirational growth...</td>\n",
       "    </tr>\n",
       "  </tbody>\n",
       "</table>\n",
       "</div>"
      ],
      "text/plain": [
       "   Sr. No.                                           Question\n",
       "0      1.0  what would be our nonlinear revenue as a perce...\n",
       "1      2.0  last quarter  we have been    till last quarte...\n",
       "2      NaN  been telling about     aspirational growth and...\n",
       "3      NaN  challenges that we found  Is that something wh...\n",
       "4      NaN  that long term     type of aspirational growth..."
      ]
     },
     "execution_count": 4,
     "metadata": {},
     "output_type": "execute_result"
    }
   ],
   "source": [
    "data2=pd.read_excel('C:/Users/Tanmay/Desktop/Intern work/Text classification/Current status.xlsx')\n",
    "data2['Question']=data2.Question.apply(lambda x: clean_text(x))\n",
    "data2.head()"
   ]
  },
  {
   "cell_type": "code",
   "execution_count": 5,
   "metadata": {},
   "outputs": [
    {
     "data": {
      "text/html": [
       "<div>\n",
       "<style scoped>\n",
       "    .dataframe tbody tr th:only-of-type {\n",
       "        vertical-align: middle;\n",
       "    }\n",
       "\n",
       "    .dataframe tbody tr th {\n",
       "        vertical-align: top;\n",
       "    }\n",
       "\n",
       "    .dataframe thead th {\n",
       "        text-align: right;\n",
       "    }\n",
       "</style>\n",
       "<table border=\"1\" class=\"dataframe\">\n",
       "  <thead>\n",
       "    <tr style=\"text-align: right;\">\n",
       "      <th></th>\n",
       "      <th>Sr. No.</th>\n",
       "      <th>Question</th>\n",
       "    </tr>\n",
       "  </thead>\n",
       "  <tbody>\n",
       "    <tr>\n",
       "      <th>0</th>\n",
       "      <td>1.0</td>\n",
       "      <td>And do we envisage in further quarters to rema...</td>\n",
       "    </tr>\n",
       "    <tr>\n",
       "      <th>1</th>\n",
       "      <td>NaN</td>\n",
       "      <td>any drastic change in this year</td>\n",
       "    </tr>\n",
       "    <tr>\n",
       "      <th>2</th>\n",
       "      <td>2.0</td>\n",
       "      <td>Firstly  we've been trying to reach out the in...</td>\n",
       "    </tr>\n",
       "    <tr>\n",
       "      <th>3</th>\n",
       "      <td>NaN</td>\n",
       "      <td>team is always inaccessible to us  We tried   ...</td>\n",
       "    </tr>\n",
       "    <tr>\n",
       "      <th>4</th>\n",
       "      <td>NaN</td>\n",
       "      <td>months but then we haven't got    gone through...</td>\n",
       "    </tr>\n",
       "  </tbody>\n",
       "</table>\n",
       "</div>"
      ],
      "text/plain": [
       "   Sr. No.                                            Question\n",
       "0       1.0  And do we envisage in further quarters to rema...\n",
       "1       NaN                   any drastic change in this year \n",
       "2       2.0  Firstly  we've been trying to reach out the in...\n",
       "3       NaN  team is always inaccessible to us  We tried   ...\n",
       "4       NaN  months but then we haven't got    gone through..."
      ]
     },
     "execution_count": 5,
     "metadata": {},
     "output_type": "execute_result"
    }
   ],
   "source": [
    "data3=pd.read_excel('C:/Users/Tanmay/Desktop/Intern work/Text classification/Future plans.xlsx')\n",
    "data3['Question']=data3.Question.apply(lambda x: clean_text(x))\n",
    "data3.head()"
   ]
  },
  {
   "cell_type": "code",
   "execution_count": 6,
   "metadata": {},
   "outputs": [
    {
     "name": "stderr",
     "output_type": "stream",
     "text": [
      "G:\\aNAA\\lib\\site-packages\\sklearn\\feature_extraction\\text.py:301: UserWarning: Your stop_words may be inconsistent with your preprocessing. Tokenizing the stop words generated tokens ['aren', 'couldn', 'didn', 'doesn', 'don', 'hadn', 'hasn', 'haven', 'isn', 'let', 'll', 'mustn', 're', 'shan', 'shouldn', 've', 'wasn', 'weren', 'won', 'wouldn'] not in stop_words.\n",
      "  'stop_words.' % sorted(inconsistent))\n"
     ]
    }
   ],
   "source": [
    "from wordcloud import STOPWORDS \n",
    "cv1=CountVectorizer(max_df=0.85,stop_words=STOPWORDS,min_df=0.02)\n",
    "cv2=CountVectorizer(max_df=0.85,stop_words=STOPWORDS,min_df=0.02)\n",
    "cv3=CountVectorizer(max_df=0.85,stop_words=STOPWORDS,min_df=0.02)\n",
    "word_count_vector1=cv1.fit_transform(data1['Question'].tolist())\n",
    "word_count_vector2=cv2.fit_transform(data2['Question'].tolist())\n",
    "word_count_vector3=cv3.fit_transform(data3['Question'].tolist())\n"
   ]
  },
  {
   "cell_type": "code",
   "execution_count": 7,
   "metadata": {},
   "outputs": [],
   "source": [
    "cv1=CountVectorizer(max_df=0.85,stop_words=STOPWORDS,max_features=10000)\n",
    "cv2=CountVectorizer(max_df=0.85,stop_words=STOPWORDS,max_features=10000)\n",
    "cv3=CountVectorizer(max_df=0.85,stop_words=STOPWORDS,max_features=10000)\n",
    "word_count_vector1=cv1.fit_transform(data1['Question'].tolist())\n",
    "word_count_vector2=cv2.fit_transform(data2['Question'].tolist())\n",
    "word_count_vector3=cv3.fit_transform(data3['Question'].tolist())\n"
   ]
  },
  {
   "cell_type": "code",
   "execution_count": 8,
   "metadata": {},
   "outputs": [
    {
     "data": {
      "text/plain": [
       "TfidfTransformer(norm='l2', smooth_idf=True, sublinear_tf=False, use_idf=True)"
      ]
     },
     "execution_count": 8,
     "metadata": {},
     "output_type": "execute_result"
    }
   ],
   "source": [
    "from sklearn.feature_extraction.text import TfidfTransformer\n",
    "tfidf_transformer1=TfidfTransformer(smooth_idf=True,use_idf=True)\n",
    "tfidf_transformer2=TfidfTransformer(smooth_idf=True,use_idf=True)\n",
    "tfidf_transformer3=TfidfTransformer(smooth_idf=True,use_idf=True)\n",
    "tfidf_transformer1.fit(word_count_vector1)\n",
    "tfidf_transformer2.fit(word_count_vector2)\n",
    "tfidf_transformer3.fit(word_count_vector3)\n"
   ]
  },
  {
   "cell_type": "code",
   "execution_count": 9,
   "metadata": {},
   "outputs": [],
   "source": [
    "L=len(data1['Question'])\n",
    "Oth_factors=\"\"\n",
    "for i in range(L):\n",
    "    Oth_factors=Oth_factors+\" \"+data1['Question'][i]\n",
    "\n",
    "L=len(data2['Question'])\n",
    "Cur_status=\"\"\n",
    "for i in range(L):\n",
    "    Cur_status=Cur_status+\" \"+data2['Question'][i]\n",
    "\n",
    "L=len(data3['Question'])\n",
    "Fut_plans=\"\"\n",
    "for i in range(L):\n",
    "    Fut_plans=Fut_plans+\" \"+data3['Question'][i]\n",
    "\n",
    "doc=[Oth_factors,Cur_status,Fut_plans]\n"
   ]
  },
  {
   "cell_type": "code",
   "execution_count": 10,
   "metadata": {},
   "outputs": [],
   "source": [
    "def sort_coo(coo_matrix):\n",
    "    tuples = zip(coo_matrix.col, coo_matrix.data)\n",
    "    return sorted(tuples, key=lambda x: (x[1], x[0]), reverse=True)\n",
    " \n",
    "def extract_topn_from_vector(feature_names, sorted_items, topn=20):\n",
    "    \"\"\"get the feature names and tf-idf score of top n items\"\"\"\n",
    "    \n",
    "    #use only topn items from vector\n",
    "    sorted_items = sorted_items[:topn]\n",
    " \n",
    "    score_vals = []\n",
    "    feature_vals = []\n",
    "    \n",
    "    # word index and corresponding tf-idf score\n",
    "    for idx, score in sorted_items:\n",
    "        \n",
    "        #keep track of feature name and its corresponding score\n",
    "        score_vals.append(round(score, 3))\n",
    "        feature_vals.append(feature_names[idx])\n",
    " \n",
    "    #create a tuples of feature,score\n",
    "    #results = zip(feature_vals,score_vals)\n",
    "    results= {}\n",
    "    for idx in range(len(feature_vals)):\n",
    "        results[feature_vals[idx]]=score_vals[idx]\n",
    "    \n",
    "    return results\n"
   ]
  },
  {
   "cell_type": "code",
   "execution_count": 13,
   "metadata": {},
   "outputs": [
    {
     "name": "stdout",
     "output_type": "stream",
     "text": [
      "\n",
      "=====Doc=====\n",
      " And do we envisage in further quarters to remain mixed    to remain more or less the same  Or we see any drastic change in this year  Firstly  we've been trying to reach out the investor relations team and your team is always inaccessible to us  We tried    we've been trying to reach out to you since last   to   months but then we haven't got    gone through  Are there any concerns  just wanted to know in the quarter    we were quite sounding bullish and also thinking of adding a lot of manpower resources and acquiring certain capabilities and all that  I think in the last quarter  a lot of things have happened globally and within India also  How do you see the trajectory of the manpower addition going ahead  Because otherwise we might be settled with deadwood  and we may not have that kind of growth that we were expecting in the business to be able to grow at say     CAGR in medium to long term  So what are your views on that  Can you just share the headcount number as of December  we have been adding employees in the recent time  And they will take some time to start generating revenue  Could you please throw some light by what time they will start generating revenue in terms of employable or chargeable  you mentioned that you would be retaining around     million to      million as growth capital  I think the transaction that we announced totaled to something around     million      million  So what are the areas we are looking for this incremental     million to     million        million for deployment as far as existing and retained growth businesses are concerned  on the States business  we have made an incremental investment around some other incremental investment  I mean  what are the opportunities that    how should we look at that business from a Strides perspective over the next  say    year      years in terms of what kind of opportunities does it offer us  On the U S  business  the run rate that you   recorded   at    and so where you see this business really ending up for us as a combined business over the next few quarters  I mean  the CGT obviously is going to be a big influence around    on the run rate on the business  but barring the CGT product  how should we see    look at the business now  with these   inorganic transactions also coming in play  say  if we take a    month view of this business  question is on the U S  margins  It's mentioned in the presentation that you have broken even at the current levels  And you mentioned that it will be going towards to     million to     million kind of a run rate  What is the margins that you should expect from U S  when you are at that kind of a run rate and growing on the overall business    I just wanted to reconfirm that you have increased your CapEx guidance for this year from INR       crores to INR       crores  And if that is correct  is that the level of CapEx we should assume for the next  say    to   years  So my second question is around the Voda ICR for  G fallback  I mean  are you allowed to have an ICR arrangement if you do not have the same spectrum in that area  So how is it actually the  G ICR working out  what should be the finance costs run rate going forward  One is that on the intent of the management to hive off certain non core assets  are we anywhere in the process  what would be your CapEx guidance for FY '    you briefly talked about the GST cut starting  st of January  If you can talk about some initial trends as to what are you seeing in terms of change in behavior  you mentioned you are expecting a rise in footfall in the short to medium term  Could there also be a possibility where some of these consumers shift some of the money saved towards higher food and beverage  So just wanted to get your thoughts on that  during the year  FY '    what are we expecting to spend in terms of CapEx post the    sort of    apart from the organic expansion  So basically  refurbishment and other things and maintenance  What sort of CapEx expected for FY '    And any thoughts on how the figures would move in FY '    SPI  we don't own as of now       right  So by what time would it is expected to come      under PVR  how much of the margin gain that we had in this quarter you think was because of some extensive focus on cost  And how much you think we will be able to retain in the near term  the IP numbers were pretty much flat Y o Y  and Q     well  actually Q o Q  sorry  And Q  certification is probably a little better quarter    by all accounts currently    So should we expect that Q  will see a normal kind of rundown  Do we see the normal seasonality  Or should we say that this time around there was an additional bump up  and therefore  we should still be flattish  question I had was what your thought process regarding buybacks  both to what is happening now and in general  Could you just guide us like how do you see cost of deposits in the coming quarters  now that you have taken the charge  what do you think would be your priority areas to deal with in the next   to    months and then going into next year  Of course  everybody's assuming that GDP will start recovering  What will be the   key priority areas for you to focus on both near term as well as medium to long term  on the wage side  what sort of wage provision we are making in terms of also resumption of wage hike  It is      Or it's        So when you say          or whatever percentage  basically  you are assuming in your wage hike or when you negotiate with the union  does that include the impact of    or total impact of the pension liability which will be going up because of this wage hike  any number you are targeting over next   years  let's say  INR     crores on gross debt  and that's when we will all have a sigh of relief from maybe debt to EBITDA  let's say    to      By the time we reach  say  INR       crores of the EBITDA  debt somewhere around INR       crores or INR       crores  that will    everybody will start appreciating  everybody will say  okay  Jain Irrigation is a turnaround story  Any number we are targeting for next   years  you talked about     bps  I think you have given this number in the past  but how much has been achieved  What needs to be further done  Is it going to be more back ended in FY '    And if you can give us some thoughts there  My question related to the MDF  As you're utilizing these verticals and you also announced further on that today for another unit  Also you mentioned about the connection and the realization of EBIT  the main segment  that's plywood  There  also  we haven't seen some pressure in this quarter  So    and also  as for your commentary to more    if you move on in the midsegment definitely to sustain the historical high margin will be challenging  So what level of you're actually expecting to way forward with this focus more on affordable things and medium range supply  what is the kind of average price differential between the premium segment and the midmarket segment currently that you're targeting  what will be your distribution touchpoints right now Pan India  So going forward  what will be the sustainable margins in FY    \n",
      "\n",
      "===Keywords===\n",
      "will 0.26\n",
      "million 0.207\n",
      "business 0.189\n",
      "say 0.183\n",
      "going 0.156\n",
      "see 0.147\n",
      "inr 0.146\n",
      "next 0.141\n",
      "around 0.141\n",
      "crores 0.138\n",
      "time 0.131\n",
      "kind 0.131\n",
      "think 0.126\n",
      "fy 0.126\n",
      "wage 0.115\n",
      "term 0.115\n",
      "run 0.115\n",
      "rate 0.115\n",
      "mentioned 0.115\n",
      "year 0.109\n"
     ]
    }
   ],
   "source": [
    "# you only needs to do this once, this is a mapping of index to \n",
    "feature_names=cv3.get_feature_names()\n",
    "\n",
    " \n",
    "#generate tf-idf for the given document\n",
    "tf_idf_vector=tfidf_transformer3.transform(cv3.transform([doc[2]]))\n",
    " \n",
    "#sort the tf-idf vectors by descending order of scores\n",
    "sorted_items=sort_coo(tf_idf_vector.tocoo())\n",
    " \n",
    "#extract only the top n; n here is 20\n",
    "keywords=extract_topn_from_vector(feature_names,sorted_items,20)\n",
    " \n",
    "# now print the results\n",
    "print(\"\\n=====Doc=====\")\n",
    "print(doc[2])\n",
    "print(\"\\n===Keywords===\")\n",
    "for k in keywords:\n",
    "    print(k,keywords[k])"
   ]
  },
  {
   "cell_type": "code",
   "execution_count": null,
   "metadata": {},
   "outputs": [],
   "source": []
  },
  {
   "cell_type": "code",
   "execution_count": null,
   "metadata": {},
   "outputs": [],
   "source": []
  }
 ],
 "metadata": {
  "kernelspec": {
   "display_name": "Python 3",
   "language": "python",
   "name": "python3"
  },
  "language_info": {
   "codemirror_mode": {
    "name": "ipython",
    "version": 3
   },
   "file_extension": ".py",
   "mimetype": "text/x-python",
   "name": "python",
   "nbconvert_exporter": "python",
   "pygments_lexer": "ipython3",
   "version": "3.7.3"
  }
 },
 "nbformat": 4,
 "nbformat_minor": 2
}
